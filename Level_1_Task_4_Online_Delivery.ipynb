{
  "cells": [
    {
      "cell_type": "markdown",
      "metadata": {
        "id": "view-in-github",
        "colab_type": "text"
      },
      "source": [
        "<a href=\"https://colab.research.google.com/github/Deepakkr007/Cognifz_intern_dataAnalysis/blob/main/Level_1_Task_4_Online_Delivery.ipynb\" target=\"_parent\"><img src=\"https://colab.research.google.com/assets/colab-badge.svg\" alt=\"Open In Colab\"/></a>"
      ]
    },
    {
      "cell_type": "markdown",
      "source": [
        "<a href=\"https://colab.research.google.com/github/manasdutta04/Cognifyz-Technologies-Internship/blob/main/Level 1/Level 1-Task 4 Online Delivery.ipynb\" target=\"_parent\"><img src=\"https://colab.research.google.com/assets/colab-badge.svg\" alt=\"Open In Colab\"/></a>"
      ],
      "metadata": {
        "id": "KmKZPENfuw8D"
      },
      "id": "KmKZPENfuw8D"
    },
    {
      "cell_type": "code",
      "execution_count": null,
      "id": "4bf4607a",
      "metadata": {
        "id": "4bf4607a"
      },
      "outputs": [],
      "source": [
        "import pandas as pd\n",
        "import matplotlib.pyplot as plt\n",
        "\n"
      ]
    },
    {
      "cell_type": "code",
      "execution_count": null,
      "id": "317b1d03",
      "metadata": {
        "id": "317b1d03"
      },
      "outputs": [],
      "source": [
        "dataset = pd.read_csv('Dataset.csv')"
      ]
    },
    {
      "cell_type": "code",
      "execution_count": null,
      "id": "b5a5af4c",
      "metadata": {
        "id": "b5a5af4c"
      },
      "outputs": [],
      "source": [
        "total_restaurants = len(dataset)\n",
        "restaurants_with_online_delivery = dataset['Has Online delivery'].value_counts().get('Yes', 0)\n",
        "percentage_with_online_delivery = (restaurants_with_online_delivery / total_restaurants) * 100"
      ]
    },
    {
      "cell_type": "code",
      "execution_count": null,
      "id": "fefaf9ad",
      "metadata": {
        "id": "fefaf9ad"
      },
      "outputs": [],
      "source": [
        "print(\"Percentage of restaurants that offer online delivery:\", percentage_with_online_delivery)"
      ]
    },
    {
      "cell_type": "code",
      "execution_count": null,
      "id": "f89bf7a2",
      "metadata": {
        "id": "f89bf7a2"
      },
      "outputs": [],
      "source": [
        "average_rating_with_online_delivery = dataset[dataset['Has Online delivery'] == 'Yes']['Aggregate rating'].mean()\n",
        "average_rating_without_online_delivery = dataset[dataset['Has Online delivery'] == 'No']['Aggregate rating'].mean()\n"
      ]
    },
    {
      "cell_type": "code",
      "execution_count": null,
      "id": "9e77195a",
      "metadata": {
        "id": "9e77195a"
      },
      "outputs": [],
      "source": [
        "print(\"Average rating of restaurants with online delivery:\", average_rating_with_online_delivery)\n",
        "print(\"Average rating of restaurants without online delivery:\", average_rating_without_online_delivery)"
      ]
    },
    {
      "cell_type": "code",
      "execution_count": null,
      "id": "2ee005b5",
      "metadata": {
        "id": "2ee005b5"
      },
      "outputs": [],
      "source": [
        "labels = ['With Online Delivery', 'Without Online Delivery']\n",
        "average_ratings = [average_rating_with_online_delivery, average_rating_without_online_delivery]\n",
        "\n",
        "plt.bar(labels, average_ratings)\n",
        "plt.xlabel('Online Delivery')\n",
        "plt.ylabel('Average Rating')\n",
        "plt.title('Comparison of Average Ratings')\n",
        "plt.show()"
      ]
    },
    {
      "cell_type": "code",
      "execution_count": null,
      "id": "c5b0823b",
      "metadata": {
        "id": "c5b0823b"
      },
      "outputs": [],
      "source": []
    }
  ],
  "metadata": {
    "kernelspec": {
      "display_name": "Python 3 (ipykernel)",
      "language": "python",
      "name": "python3"
    },
    "language_info": {
      "codemirror_mode": {
        "name": "ipython",
        "version": 3
      },
      "file_extension": ".py",
      "mimetype": "text/x-python",
      "name": "python",
      "nbconvert_exporter": "python",
      "pygments_lexer": "ipython3",
      "version": "3.9.13"
    },
    "colab": {
      "provenance": [],
      "include_colab_link": true
    }
  },
  "nbformat": 4,
  "nbformat_minor": 5
}